{
 "cells": [
  {
   "cell_type": "code",
   "execution_count": 1,
   "id": "5901a6fe-fd21-40cc-af8f-bd31121b35da",
   "metadata": {},
   "outputs": [],
   "source": [
    "import pandas as pd\n",
    "import os"
   ]
  },
  {
   "cell_type": "code",
   "execution_count": 5,
   "id": "4def8067-9f48-4e3e-83b8-c02eb8867ade",
   "metadata": {},
   "outputs": [
    {
     "data": {
      "text/plain": [
       "['cleaned_players.csv']"
      ]
     },
     "execution_count": 5,
     "metadata": {},
     "output_type": "execute_result"
    }
   ],
   "source": [
    "os.listdir('../data')"
   ]
  },
  {
   "cell_type": "code",
   "execution_count": 8,
   "id": "0dae26b7-d4b8-4dad-b37d-50d13a223004",
   "metadata": {},
   "outputs": [
    {
     "data": {
      "text/html": [
       "<div>\n",
       "<style scoped>\n",
       "    .dataframe tbody tr th:only-of-type {\n",
       "        vertical-align: middle;\n",
       "    }\n",
       "\n",
       "    .dataframe tbody tr th {\n",
       "        vertical-align: top;\n",
       "    }\n",
       "\n",
       "    .dataframe thead th {\n",
       "        text-align: right;\n",
       "    }\n",
       "</style>\n",
       "<table border=\"1\" class=\"dataframe\">\n",
       "  <thead>\n",
       "    <tr style=\"text-align: right;\">\n",
       "      <th></th>\n",
       "      <th>id_players</th>\n",
       "      <th>player_name</th>\n",
       "      <th>birthday</th>\n",
       "      <th>height</th>\n",
       "      <th>weight</th>\n",
       "      <th>overall_rating</th>\n",
       "      <th>potential</th>\n",
       "      <th>preferred_foot</th>\n",
       "      <th>attacking_work_rate</th>\n",
       "      <th>defensive_work_rate</th>\n",
       "      <th>...</th>\n",
       "      <th>vision</th>\n",
       "      <th>penalties</th>\n",
       "      <th>marking</th>\n",
       "      <th>standing_tackle</th>\n",
       "      <th>sliding_tackle</th>\n",
       "      <th>gk_diving</th>\n",
       "      <th>gk_handling</th>\n",
       "      <th>gk_kicking</th>\n",
       "      <th>gk_positioning</th>\n",
       "      <th>gk_reflexes</th>\n",
       "    </tr>\n",
       "  </thead>\n",
       "  <tbody>\n",
       "    <tr>\n",
       "      <th>0</th>\n",
       "      <td>1</td>\n",
       "      <td>Aaron Appindangoye</td>\n",
       "      <td>1992-02-29 00:00:00</td>\n",
       "      <td>182.88</td>\n",
       "      <td>187</td>\n",
       "      <td>67.0</td>\n",
       "      <td>71.0</td>\n",
       "      <td>right</td>\n",
       "      <td>medium</td>\n",
       "      <td>medium</td>\n",
       "      <td>...</td>\n",
       "      <td>54.0</td>\n",
       "      <td>48.0</td>\n",
       "      <td>65.0</td>\n",
       "      <td>69.0</td>\n",
       "      <td>69.0</td>\n",
       "      <td>6.0</td>\n",
       "      <td>11.0</td>\n",
       "      <td>10.0</td>\n",
       "      <td>8.0</td>\n",
       "      <td>8.0</td>\n",
       "    </tr>\n",
       "    <tr>\n",
       "      <th>5</th>\n",
       "      <td>2</td>\n",
       "      <td>Aaron Cresswell</td>\n",
       "      <td>1989-12-15 00:00:00</td>\n",
       "      <td>170.18</td>\n",
       "      <td>146</td>\n",
       "      <td>74.0</td>\n",
       "      <td>76.0</td>\n",
       "      <td>left</td>\n",
       "      <td>high</td>\n",
       "      <td>medium</td>\n",
       "      <td>...</td>\n",
       "      <td>66.0</td>\n",
       "      <td>59.0</td>\n",
       "      <td>76.0</td>\n",
       "      <td>75.0</td>\n",
       "      <td>78.0</td>\n",
       "      <td>14.0</td>\n",
       "      <td>7.0</td>\n",
       "      <td>9.0</td>\n",
       "      <td>9.0</td>\n",
       "      <td>12.0</td>\n",
       "    </tr>\n",
       "    <tr>\n",
       "      <th>47</th>\n",
       "      <td>3</td>\n",
       "      <td>Aaron Doran</td>\n",
       "      <td>1991-05-13 00:00:00</td>\n",
       "      <td>170.18</td>\n",
       "      <td>163</td>\n",
       "      <td>71.0</td>\n",
       "      <td>78.0</td>\n",
       "      <td>right</td>\n",
       "      <td>medium</td>\n",
       "      <td>medium</td>\n",
       "      <td>...</td>\n",
       "      <td>72.0</td>\n",
       "      <td>63.0</td>\n",
       "      <td>22.0</td>\n",
       "      <td>21.0</td>\n",
       "      <td>21.0</td>\n",
       "      <td>15.0</td>\n",
       "      <td>10.0</td>\n",
       "      <td>11.0</td>\n",
       "      <td>8.0</td>\n",
       "      <td>12.0</td>\n",
       "    </tr>\n",
       "    <tr>\n",
       "      <th>83</th>\n",
       "      <td>4</td>\n",
       "      <td>Aaron Galindo</td>\n",
       "      <td>1982-05-08 00:00:00</td>\n",
       "      <td>182.88</td>\n",
       "      <td>198</td>\n",
       "      <td>75.0</td>\n",
       "      <td>82.0</td>\n",
       "      <td>right</td>\n",
       "      <td>medium</td>\n",
       "      <td>high</td>\n",
       "      <td>...</td>\n",
       "      <td>54.0</td>\n",
       "      <td>60.0</td>\n",
       "      <td>80.0</td>\n",
       "      <td>78.0</td>\n",
       "      <td>70.0</td>\n",
       "      <td>14.0</td>\n",
       "      <td>11.0</td>\n",
       "      <td>65.0</td>\n",
       "      <td>11.0</td>\n",
       "      <td>10.0</td>\n",
       "    </tr>\n",
       "    <tr>\n",
       "      <th>106</th>\n",
       "      <td>5</td>\n",
       "      <td>Aaron Hughes</td>\n",
       "      <td>1979-11-08 00:00:00</td>\n",
       "      <td>182.88</td>\n",
       "      <td>154</td>\n",
       "      <td>78.0</td>\n",
       "      <td>81.0</td>\n",
       "      <td>right</td>\n",
       "      <td>medium</td>\n",
       "      <td>medium</td>\n",
       "      <td>...</td>\n",
       "      <td>60.0</td>\n",
       "      <td>81.0</td>\n",
       "      <td>82.0</td>\n",
       "      <td>83.0</td>\n",
       "      <td>77.0</td>\n",
       "      <td>12.0</td>\n",
       "      <td>20.0</td>\n",
       "      <td>57.0</td>\n",
       "      <td>20.0</td>\n",
       "      <td>20.0</td>\n",
       "    </tr>\n",
       "  </tbody>\n",
       "</table>\n",
       "<p>5 rows × 43 columns</p>\n",
       "</div>"
      ],
      "text/plain": [
       "     id_players         player_name             birthday  height  weight  \\\n",
       "0             1  Aaron Appindangoye  1992-02-29 00:00:00  182.88     187   \n",
       "5             2     Aaron Cresswell  1989-12-15 00:00:00  170.18     146   \n",
       "47            3         Aaron Doran  1991-05-13 00:00:00  170.18     163   \n",
       "83            4       Aaron Galindo  1982-05-08 00:00:00  182.88     198   \n",
       "106           5        Aaron Hughes  1979-11-08 00:00:00  182.88     154   \n",
       "\n",
       "     overall_rating  potential preferred_foot attacking_work_rate  \\\n",
       "0              67.0       71.0          right              medium   \n",
       "5              74.0       76.0           left                high   \n",
       "47             71.0       78.0          right              medium   \n",
       "83             75.0       82.0          right              medium   \n",
       "106            78.0       81.0          right              medium   \n",
       "\n",
       "    defensive_work_rate  ...  vision  penalties  marking  standing_tackle  \\\n",
       "0                medium  ...    54.0       48.0     65.0             69.0   \n",
       "5                medium  ...    66.0       59.0     76.0             75.0   \n",
       "47               medium  ...    72.0       63.0     22.0             21.0   \n",
       "83                 high  ...    54.0       60.0     80.0             78.0   \n",
       "106              medium  ...    60.0       81.0     82.0             83.0   \n",
       "\n",
       "     sliding_tackle  gk_diving  gk_handling  gk_kicking  gk_positioning  \\\n",
       "0              69.0        6.0         11.0        10.0             8.0   \n",
       "5              78.0       14.0          7.0         9.0             9.0   \n",
       "47             21.0       15.0         10.0        11.0             8.0   \n",
       "83             70.0       14.0         11.0        65.0            11.0   \n",
       "106            77.0       12.0         20.0        57.0            20.0   \n",
       "\n",
       "     gk_reflexes  \n",
       "0            8.0  \n",
       "5           12.0  \n",
       "47          12.0  \n",
       "83          10.0  \n",
       "106         20.0  \n",
       "\n",
       "[5 rows x 43 columns]"
      ]
     },
     "execution_count": 8,
     "metadata": {},
     "output_type": "execute_result"
    }
   ],
   "source": [
    "df = pd.read_csv('../data/cleaned_players.csv', index_col = 0)\n",
    "df.head()"
   ]
  },
  {
   "cell_type": "markdown",
   "id": "e6686ef5-5e1e-46eb-b014-14bf69f751c1",
   "metadata": {},
   "source": [
    "# Feature Engineering\n",
    "1. Country\n",
    "2. Position\n",
    "3. Team"
   ]
  },
  {
   "cell_type": "code",
   "execution_count": 22,
   "id": "fc83d333-9cb0-427d-b1ab-8b51d1749838",
   "metadata": {},
   "outputs": [
    {
     "data": {
      "text/plain": [
       "0         A. Appindangoye\n",
       "5            A. Cresswell\n",
       "47               A. Doran\n",
       "83             A. Galindo\n",
       "106             A. Hughes\n",
       "               ...       \n",
       "183895       Z. Dhaouadhi\n",
       "183903          Z. Feddal\n",
       "183935          Z. Camara\n",
       "183947          Z. Laczko\n",
       "183972       Z. Misimovic\n",
       "Name: player_name, Length: 9844, dtype: object"
      ]
     },
     "execution_count": 22,
     "metadata": {},
     "output_type": "execute_result"
    }
   ],
   "source": [
    "temp = df['player_name'].apply(lambda name: name.split(' '))\n",
    "temp = temp.apply(lambda name: f\"{name[0][0]}. {name[-1]}\")\n",
    "temp"
   ]
  },
  {
   "cell_type": "markdown",
   "id": "4ec6d341-71c1-4ca3-9d98-da6dd163928e",
   "metadata": {},
   "source": [
    "# Question 3\n",
    "* Question: What factors influence a player's potential rating, and how accurately can it predict future performance? \n",
    "* Rationale: This could assist in scouting and investment decisions for clients, focusing on young players who may grow into valuable assets. "
   ]
  },
  {
   "cell_type": "code",
   "execution_count": null,
   "id": "8e872c98-3fb5-4e0d-9edb-5ee688e41e3f",
   "metadata": {},
   "outputs": [],
   "source": []
  },
  {
   "cell_type": "code",
   "execution_count": null,
   "id": "3c12a6e8-f721-4c4a-8f4d-20f54b5e23cf",
   "metadata": {},
   "outputs": [],
   "source": []
  },
  {
   "cell_type": "code",
   "execution_count": null,
   "id": "f2c4b032-9f19-4e7a-bf6e-1947315d9a85",
   "metadata": {},
   "outputs": [],
   "source": []
  },
  {
   "cell_type": "markdown",
   "id": "fae267e6-9f1d-4706-b24f-88395290ee63",
   "metadata": {},
   "source": [
    "# Question 5\n",
    "* Question: Which skills show the most improvement with player experience or age? \n",
    "* Rationale: This could guide a training organization on which skills to focus on at different player development stages, aligning with age or experience. "
   ]
  },
  {
   "cell_type": "code",
   "execution_count": null,
   "id": "7a05f443-735d-4cdd-8d3c-c211a15906e9",
   "metadata": {},
   "outputs": [],
   "source": []
  },
  {
   "cell_type": "code",
   "execution_count": null,
   "id": "08c8464b-8d00-4d6d-90bf-9773b2befd9d",
   "metadata": {},
   "outputs": [],
   "source": []
  },
  {
   "cell_type": "code",
   "execution_count": null,
   "id": "04d59b32-6f34-4b5b-b5cb-d443d083dc28",
   "metadata": {},
   "outputs": [],
   "source": []
  },
  {
   "cell_type": "code",
   "execution_count": null,
   "id": "f5fb6cdd-e866-4e35-a536-81ca004c6b98",
   "metadata": {},
   "outputs": [],
   "source": []
  },
  {
   "cell_type": "markdown",
   "id": "2f4416ea-95a5-4567-83cb-6a2e1e00c1de",
   "metadata": {},
   "source": [
    "# Question 6\n",
    "* Question: Do physical attributes (height, weight) correlate with certain skill attributes? For example, are taller players better at defending or goalkeeping? \n",
    "* Rationale: This would help clients in fitness and training management understand how physicality impacts skill development. "
   ]
  },
  {
   "cell_type": "code",
   "execution_count": null,
   "id": "213a6c24-e6ed-4d6e-bf92-a49e753bb0a2",
   "metadata": {},
   "outputs": [],
   "source": []
  },
  {
   "cell_type": "code",
   "execution_count": null,
   "id": "cb802c29-f89d-4514-92c8-a053153abb3a",
   "metadata": {},
   "outputs": [],
   "source": []
  },
  {
   "cell_type": "code",
   "execution_count": null,
   "id": "426a2337-64c4-4ad2-9511-2adbb1ac396b",
   "metadata": {},
   "outputs": [],
   "source": []
  },
  {
   "cell_type": "code",
   "execution_count": null,
   "id": "f4f5490f-fc66-4d00-8a28-268944197fa2",
   "metadata": {},
   "outputs": [],
   "source": []
  }
 ],
 "metadata": {
  "kernelspec": {
   "display_name": "Python 3 (ipykernel)",
   "language": "python",
   "name": "python3"
  },
  "language_info": {
   "codemirror_mode": {
    "name": "ipython",
    "version": 3
   },
   "file_extension": ".py",
   "mimetype": "text/x-python",
   "name": "python",
   "nbconvert_exporter": "python",
   "pygments_lexer": "ipython3",
   "version": "3.9.20"
  }
 },
 "nbformat": 4,
 "nbformat_minor": 5
}
